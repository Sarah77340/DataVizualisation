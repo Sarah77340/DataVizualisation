{
 "cells": [
  {
   "cell_type": "code",
   "execution_count": 1,
   "id": "119c3142-146c-4117-a018-57c73842b96e",
   "metadata": {},
   "outputs": [],
   "source": [
    "import pandas as pd"
   ]
  },
  {
   "cell_type": "markdown",
   "id": "64a114ad-a35d-4ea4-9d80-9c29d81aa8e1",
   "metadata": {},
   "source": [
    "# Journees_europeennes_du_patrimoine_20160914.csv"
   ]
  },
  {
   "cell_type": "code",
   "execution_count": 15,
   "id": "ed2581d6-2dba-401d-8521-55144a2d6965",
   "metadata": {},
   "outputs": [
    {
     "data": {
      "text/html": [
       "<div>\n",
       "<style scoped>\n",
       "    .dataframe tbody tr th:only-of-type {\n",
       "        vertical-align: middle;\n",
       "    }\n",
       "\n",
       "    .dataframe tbody tr th {\n",
       "        vertical-align: top;\n",
       "    }\n",
       "\n",
       "    .dataframe thead th {\n",
       "        text-align: right;\n",
       "    }\n",
       "</style>\n",
       "<table border=\"1\" class=\"dataframe\">\n",
       "  <thead>\n",
       "    <tr style=\"text-align: right;\">\n",
       "      <th></th>\n",
       "      <th>Identifiant</th>\n",
       "      <th>Titre - FR</th>\n",
       "      <th>Titre - DE</th>\n",
       "      <th>Titre - EN</th>\n",
       "      <th>Titre - ES</th>\n",
       "      <th>Titre - IT</th>\n",
       "      <th>Titre - BR</th>\n",
       "      <th>Titre - PL</th>\n",
       "      <th>Titre - CA</th>\n",
       "      <th>Titre - OC</th>\n",
       "      <th>...</th>\n",
       "      <th>Accès / Itinéraire - DE</th>\n",
       "      <th>Accès / Itinéraire - EN</th>\n",
       "      <th>Accès / Itinéraire - ES</th>\n",
       "      <th>Accès / Itinéraire - IT</th>\n",
       "      <th>Accès / Itinéraire - BR</th>\n",
       "      <th>Accès / Itinéraire - PL</th>\n",
       "      <th>Accès / Itinéraire - CA</th>\n",
       "      <th>Accès / Itinéraire - OC</th>\n",
       "      <th>Accès / Itinéraire - ZH</th>\n",
       "      <th>Accès / Itinéraire - JA</th>\n",
       "    </tr>\n",
       "  </thead>\n",
       "  <tbody>\n",
       "    <tr>\n",
       "      <th>23619</th>\n",
       "      <td>NaN</td>\n",
       "      <td>NaN</td>\n",
       "      <td>NaN</td>\n",
       "      <td>NaN</td>\n",
       "      <td>NaN</td>\n",
       "      <td>NaN</td>\n",
       "      <td>NaN</td>\n",
       "      <td>NaN</td>\n",
       "      <td>NaN</td>\n",
       "      <td>NaN</td>\n",
       "      <td>...</td>\n",
       "      <td>NaN</td>\n",
       "      <td>NaN</td>\n",
       "      <td>NaN</td>\n",
       "      <td>NaN</td>\n",
       "      <td>NaN</td>\n",
       "      <td>NaN</td>\n",
       "      <td>NaN</td>\n",
       "      <td>NaN</td>\n",
       "      <td>NaN</td>\n",
       "      <td>NaN</td>\n",
       "    </tr>\n",
       "    <tr>\n",
       "      <th>23620</th>\n",
       "      <td>NaN</td>\n",
       "      <td>NaN</td>\n",
       "      <td>NaN</td>\n",
       "      <td>NaN</td>\n",
       "      <td>NaN</td>\n",
       "      <td>NaN</td>\n",
       "      <td>NaN</td>\n",
       "      <td>NaN</td>\n",
       "      <td>NaN</td>\n",
       "      <td>NaN</td>\n",
       "      <td>...</td>\n",
       "      <td>NaN</td>\n",
       "      <td>NaN</td>\n",
       "      <td>NaN</td>\n",
       "      <td>NaN</td>\n",
       "      <td>NaN</td>\n",
       "      <td>NaN</td>\n",
       "      <td>NaN</td>\n",
       "      <td>NaN</td>\n",
       "      <td>NaN</td>\n",
       "      <td>NaN</td>\n",
       "    </tr>\n",
       "    <tr>\n",
       "      <th>23621</th>\n",
       "      <td>NaN</td>\n",
       "      <td>NaN</td>\n",
       "      <td>NaN</td>\n",
       "      <td>NaN</td>\n",
       "      <td>NaN</td>\n",
       "      <td>NaN</td>\n",
       "      <td>NaN</td>\n",
       "      <td>NaN</td>\n",
       "      <td>NaN</td>\n",
       "      <td>NaN</td>\n",
       "      <td>...</td>\n",
       "      <td>NaN</td>\n",
       "      <td>NaN</td>\n",
       "      <td>NaN</td>\n",
       "      <td>NaN</td>\n",
       "      <td>NaN</td>\n",
       "      <td>NaN</td>\n",
       "      <td>NaN</td>\n",
       "      <td>NaN</td>\n",
       "      <td>NaN</td>\n",
       "      <td>NaN</td>\n",
       "    </tr>\n",
       "    <tr>\n",
       "      <th>23622</th>\n",
       "      <td>NaN</td>\n",
       "      <td>NaN</td>\n",
       "      <td>NaN</td>\n",
       "      <td>NaN</td>\n",
       "      <td>NaN</td>\n",
       "      <td>NaN</td>\n",
       "      <td>NaN</td>\n",
       "      <td>NaN</td>\n",
       "      <td>NaN</td>\n",
       "      <td>NaN</td>\n",
       "      <td>...</td>\n",
       "      <td>NaN</td>\n",
       "      <td>NaN</td>\n",
       "      <td>NaN</td>\n",
       "      <td>NaN</td>\n",
       "      <td>NaN</td>\n",
       "      <td>NaN</td>\n",
       "      <td>NaN</td>\n",
       "      <td>NaN</td>\n",
       "      <td>NaN</td>\n",
       "      <td>NaN</td>\n",
       "    </tr>\n",
       "    <tr>\n",
       "      <th>23623</th>\n",
       "      <td>NaN</td>\n",
       "      <td>NaN</td>\n",
       "      <td>NaN</td>\n",
       "      <td>NaN</td>\n",
       "      <td>NaN</td>\n",
       "      <td>NaN</td>\n",
       "      <td>NaN</td>\n",
       "      <td>NaN</td>\n",
       "      <td>NaN</td>\n",
       "      <td>NaN</td>\n",
       "      <td>...</td>\n",
       "      <td>NaN</td>\n",
       "      <td>NaN</td>\n",
       "      <td>NaN</td>\n",
       "      <td>NaN</td>\n",
       "      <td>NaN</td>\n",
       "      <td>NaN</td>\n",
       "      <td>NaN</td>\n",
       "      <td>NaN</td>\n",
       "      <td>NaN</td>\n",
       "      <td>NaN</td>\n",
       "    </tr>\n",
       "  </tbody>\n",
       "</table>\n",
       "<p>5 rows × 122 columns</p>\n",
       "</div>"
      ],
      "text/plain": [
       "       Identifiant Titre - FR  Titre - DE Titre - EN Titre - ES  Titre - IT  \\\n",
       "23619          NaN        NaN         NaN        NaN        NaN         NaN   \n",
       "23620          NaN        NaN         NaN        NaN        NaN         NaN   \n",
       "23621          NaN        NaN         NaN        NaN        NaN         NaN   \n",
       "23622          NaN        NaN         NaN        NaN        NaN         NaN   \n",
       "23623          NaN        NaN         NaN        NaN        NaN         NaN   \n",
       "\n",
       "       Titre - BR  Titre - PL Titre - CA Titre - OC  ...  \\\n",
       "23619         NaN         NaN        NaN        NaN  ...   \n",
       "23620         NaN         NaN        NaN        NaN  ...   \n",
       "23621         NaN         NaN        NaN        NaN  ...   \n",
       "23622         NaN         NaN        NaN        NaN  ...   \n",
       "23623         NaN         NaN        NaN        NaN  ...   \n",
       "\n",
       "       Accès / Itinéraire - DE  Accès / Itinéraire - EN  \\\n",
       "23619                      NaN                      NaN   \n",
       "23620                      NaN                      NaN   \n",
       "23621                      NaN                      NaN   \n",
       "23622                      NaN                      NaN   \n",
       "23623                      NaN                      NaN   \n",
       "\n",
       "      Accès / Itinéraire - ES  Accès / Itinéraire - IT  \\\n",
       "23619                     NaN                      NaN   \n",
       "23620                     NaN                      NaN   \n",
       "23621                     NaN                      NaN   \n",
       "23622                     NaN                      NaN   \n",
       "23623                     NaN                      NaN   \n",
       "\n",
       "      Accès / Itinéraire - BR Accès / Itinéraire - PL  \\\n",
       "23619                     NaN                     NaN   \n",
       "23620                     NaN                     NaN   \n",
       "23621                     NaN                     NaN   \n",
       "23622                     NaN                     NaN   \n",
       "23623                     NaN                     NaN   \n",
       "\n",
       "       Accès / Itinéraire - CA  Accès / Itinéraire - OC  \\\n",
       "23619                      NaN                      NaN   \n",
       "23620                      NaN                      NaN   \n",
       "23621                      NaN                      NaN   \n",
       "23622                      NaN                      NaN   \n",
       "23623                      NaN                      NaN   \n",
       "\n",
       "       Accès / Itinéraire - ZH Accès / Itinéraire - JA  \n",
       "23619                      NaN                     NaN  \n",
       "23620                      NaN                     NaN  \n",
       "23621                      NaN                     NaN  \n",
       "23622                      NaN                     NaN  \n",
       "23623                      NaN                     NaN  \n",
       "\n",
       "[5 rows x 122 columns]"
      ]
     },
     "execution_count": 15,
     "metadata": {},
     "output_type": "execute_result"
    }
   ],
   "source": [
    "data = pd.read_csv('Journees_europeennes_du_patrimoine_20160914.csv', delimiter=';', low_memory=False)\n",
    "data.tail()"
   ]
  },
  {
   "cell_type": "code",
   "execution_count": 27,
   "id": "aac38670-9e0f-498e-b5ef-1dea56871adb",
   "metadata": {},
   "outputs": [
    {
     "data": {
      "text/plain": [
       "Index(['Identifiant', 'Titre - FR', 'Titre - DE', 'Titre - EN', 'Titre - ES',\n",
       "       'Titre - IT', 'Titre - BR', 'Titre - PL', 'Titre - CA', 'Titre - OC',\n",
       "       ...\n",
       "       'Accès / Itinéraire - DE', 'Accès / Itinéraire - EN',\n",
       "       'Accès / Itinéraire - ES', 'Accès / Itinéraire - IT',\n",
       "       'Accès / Itinéraire - BR', 'Accès / Itinéraire - PL',\n",
       "       'Accès / Itinéraire - CA', 'Accès / Itinéraire - OC',\n",
       "       'Accès / Itinéraire - ZH', 'Accès / Itinéraire - JA'],\n",
       "      dtype='object', length=122)"
      ]
     },
     "execution_count": 27,
     "metadata": {},
     "output_type": "execute_result"
    }
   ],
   "source": [
    "data.columns"
   ]
  },
  {
   "cell_type": "code",
   "execution_count": 34,
   "id": "13776429-ab3b-42f1-b36f-196fd75b2125",
   "metadata": {},
   "outputs": [
    {
     "name": "stdout",
     "output_type": "stream",
     "text": [
      "Initial number of rows: 23624\n"
     ]
    }
   ],
   "source": [
    "print(f\"Initial number of rows: {data.shape[0]}\")\n"
   ]
  },
  {
   "cell_type": "markdown",
   "id": "3679f544-63b0-4d40-ac4a-a313a8117b46",
   "metadata": {},
   "source": [
    "## Data Cleaning"
   ]
  },
  {
   "cell_type": "markdown",
   "id": "2273aab9-102d-4eb6-9d95-56118e7d9398",
   "metadata": {},
   "source": [
    "### Dropping Irrelevant Columns"
   ]
  },
  {
   "cell_type": "code",
   "execution_count": 97,
   "id": "65830509-5195-4351-8448-63a14c80d205",
   "metadata": {},
   "outputs": [],
   "source": [
    "columns_to_drop = [col for col in data.columns if '- DE' in col or '- ES' in col or '- IT' in col or \n",
    "                   '- BR' in col or '- PL' in col or '- CA' in col or '- OC' in col or '- ZH' in col or '- JA' in col or '- EN' in col]\n",
    "cleaned_data = data.drop(columns=columns_to_drop)"
   ]
  },
  {
   "cell_type": "code",
   "execution_count": 98,
   "id": "29c43eb3-9138-40f8-a487-03fc1745662b",
   "metadata": {},
   "outputs": [],
   "source": [
    "seuil = len(cleaned_data) * 0.2\n",
    "cleaned_data = cleaned_data.dropna(axis=1, thresh=seuil)"
   ]
  },
  {
   "cell_type": "code",
   "execution_count": 99,
   "id": "fde12ad4-5882-4ba6-9185-85bd47692df9",
   "metadata": {},
   "outputs": [
    {
     "data": {
      "text/plain": [
       "Index(['Identifiant', 'Titre - FR', 'Description - FR',\n",
       "       'Description longue - FR', 'Description longue - HTML - FR',\n",
       "       'Dernière mise à jour', 'Résumé horaires - FR',\n",
       "       'Horaires détaillés - FR', 'Horaires ISO', 'Première date',\n",
       "       'Première ouverture', 'Première fermeture', 'Type d'événement',\n",
       "       'Conditions tarifaires', 'Conditions de participation', 'Age maximum',\n",
       "       'Identifiant du lieu', 'Latitude', 'Longitude', 'Nom du lieu',\n",
       "       'Adresse', 'Code postal', 'Ville', 'Département', 'Région', 'Pays',\n",
       "       'Site web du lieu', 'Tags du lieu', 'Description du lieu - FR'],\n",
       "      dtype='object')"
      ]
     },
     "execution_count": 99,
     "metadata": {},
     "output_type": "execute_result"
    }
   ],
   "source": [
    "cleaned_data.columns"
   ]
  },
  {
   "cell_type": "code",
   "execution_count": 100,
   "id": "7f379977-e303-44d6-a999-689c2acbe4fd",
   "metadata": {},
   "outputs": [
    {
     "name": "stdout",
     "output_type": "stream",
     "text": [
      "Number of rows after dropping irrelevant columns: 23624\n"
     ]
    }
   ],
   "source": [
    "print(f\"Number of rows after dropping irrelevant columns: {cleaned_data.shape[0]}\")"
   ]
  },
  {
   "cell_type": "markdown",
   "id": "5c8d74d6-0765-4d40-a2d1-86f7cdb82a83",
   "metadata": {},
   "source": [
    "### Remove duplicate rows"
   ]
  },
  {
   "cell_type": "code",
   "execution_count": 101,
   "id": "c9e1f5b7-93d5-46d5-a005-1f0440f19305",
   "metadata": {},
   "outputs": [
    {
     "name": "stdout",
     "output_type": "stream",
     "text": [
      "Number of rows after removing duplicates: 22981\n"
     ]
    }
   ],
   "source": [
    "cleaned_data = cleaned_data.drop_duplicates()\n",
    "print(f\"Number of rows after removing duplicates: {cleaned_data.shape[0]}\")"
   ]
  },
  {
   "cell_type": "markdown",
   "id": "d997bde0-3baa-4c39-bdb6-20528b9f2cb9",
   "metadata": {},
   "source": [
    "### Fill missing values in categorical columns"
   ]
  },
  {
   "cell_type": "code",
   "execution_count": 102,
   "id": "7f4e96ec-39b5-40e1-86bf-4cec210269b9",
   "metadata": {},
   "outputs": [],
   "source": [
    "missing_values_before = cleaned_data.isnull().sum()"
   ]
  },
  {
   "cell_type": "code",
   "execution_count": 103,
   "id": "a9b02700-cfe6-4d87-bf50-ac11b9a5f8f1",
   "metadata": {},
   "outputs": [],
   "source": [
    "for column in cleaned_data.select_dtypes(include='object').columns:\n",
    "    cleaned_data[column].fillna('Unknown', inplace=True)"
   ]
  },
  {
   "cell_type": "code",
   "execution_count": 104,
   "id": "c1300d77-ecda-4739-a71b-984a15f06b1a",
   "metadata": {},
   "outputs": [
    {
     "name": "stdout",
     "output_type": "stream",
     "text": [
      "\n",
      "Columns where missing values were filled:\n",
      "Titre - FR                        10686\n",
      "Description - FR                  13395\n",
      "Description longue - FR           17877\n",
      "Description longue - HTML - FR    17877\n",
      "Dernière mise à jour              14972\n",
      "Résumé horaires - FR               7663\n",
      "Horaires détaillés - FR           14785\n",
      "Horaires ISO                      14840\n",
      "Première date                      4742\n",
      "Première ouverture                   55\n",
      "Première fermeture                  183\n",
      "Type d'événement                  17914\n",
      "Conditions tarifaires             17890\n",
      "Conditions de participation       17989\n",
      "Nom du lieu                       11156\n",
      "Adresse                           12920\n",
      "Ville                              6426\n",
      "Département                          92\n",
      "Région                               31\n",
      "Pays                                  1\n",
      "Site web du lieu                  15551\n",
      "Tags du lieu                       4175\n",
      "Description du lieu - FR          15160\n",
      "dtype: int64\n"
     ]
    }
   ],
   "source": [
    "missing_values_after = cleaned_data.isnull().sum()\n",
    "filled_columns = missing_values_before[missing_values_before > 0] - missing_values_after\n",
    "filled_columns = filled_columns[filled_columns > 0]\n",
    "print(\"\\nColumns where missing values were filled:\")\n",
    "print(filled_columns)"
   ]
  },
  {
   "cell_type": "markdown",
   "id": "009a430f-ee98-4d3c-a9d4-4b0426a6acb5",
   "metadata": {},
   "source": [
    "### Drop rows where the Title is unknowed"
   ]
  },
  {
   "cell_type": "code",
   "execution_count": 108,
   "id": "46c2bf2a-655b-4035-ba4c-49b869f6bba9",
   "metadata": {},
   "outputs": [],
   "source": [
    "cleaned_data = cleaned_data[cleaned_data['Titre - FR'] != 'Unknown']"
   ]
  },
  {
   "cell_type": "code",
   "execution_count": 111,
   "id": "c02e7fdd-033e-44ad-baf9-b58fb248951c",
   "metadata": {},
   "outputs": [
    {
     "name": "stdout",
     "output_type": "stream",
     "text": [
      "Number of rows after removing non existent title: 12295\n"
     ]
    }
   ],
   "source": [
    "print(f\"Number of rows after removing non existent title: {cleaned_data.shape[0]}\")"
   ]
  },
  {
   "cell_type": "markdown",
   "id": "df1b24d5-68b0-4490-bafd-bb518567118c",
   "metadata": {},
   "source": [
    "### Convert Float into Int"
   ]
  },
  {
   "cell_type": "code",
   "execution_count": 115,
   "id": "b9674664-1e93-4fee-9bf0-5aa2b0b0ea8d",
   "metadata": {},
   "outputs": [],
   "source": [
    "for col in ['Identifiant', 'Age maximum', 'Identifiant du lieu', 'Code postal']:\n",
    "    cleaned_data[col] = cleaned_data[col].astype('Int64')"
   ]
  },
  {
   "cell_type": "code",
   "execution_count": 116,
   "id": "e1cd8cf9-915d-4e68-94df-582669181b26",
   "metadata": {},
   "outputs": [
    {
     "data": {
      "text/plain": [
       "Identifiant                         Int64\n",
       "Titre - FR                         object\n",
       "Description - FR                   object\n",
       "Description longue - FR            object\n",
       "Description longue - HTML - FR     object\n",
       "Dernière mise à jour               object\n",
       "Résumé horaires - FR               object\n",
       "Horaires détaillés - FR            object\n",
       "Horaires ISO                       object\n",
       "Première date                      object\n",
       "Première ouverture                 object\n",
       "Première fermeture                 object\n",
       "Type d'événement                   object\n",
       "Conditions tarifaires              object\n",
       "Conditions de participation        object\n",
       "Age maximum                         Int64\n",
       "Identifiant du lieu                 Int64\n",
       "Latitude                          float64\n",
       "Longitude                         float64\n",
       "Nom du lieu                        object\n",
       "Adresse                            object\n",
       "Code postal                         Int64\n",
       "Ville                              object\n",
       "Département                        object\n",
       "Région                             object\n",
       "Pays                               object\n",
       "Site web du lieu                   object\n",
       "Tags du lieu                       object\n",
       "Description du lieu - FR           object\n",
       "dtype: object"
      ]
     },
     "execution_count": 116,
     "metadata": {},
     "output_type": "execute_result"
    }
   ],
   "source": [
    "cleaned_data.dtypes"
   ]
  },
  {
   "cell_type": "markdown",
   "id": "47952c57-f86d-44c6-90a6-7df978966dcc",
   "metadata": {},
   "source": [
    "## Final result"
   ]
  },
  {
   "cell_type": "code",
   "execution_count": 117,
   "id": "4b3073d5-ceea-44da-99a4-61d085fa1826",
   "metadata": {},
   "outputs": [
    {
     "data": {
      "text/html": [
       "<div>\n",
       "<style scoped>\n",
       "    .dataframe tbody tr th:only-of-type {\n",
       "        vertical-align: middle;\n",
       "    }\n",
       "\n",
       "    .dataframe tbody tr th {\n",
       "        vertical-align: top;\n",
       "    }\n",
       "\n",
       "    .dataframe thead th {\n",
       "        text-align: right;\n",
       "    }\n",
       "</style>\n",
       "<table border=\"1\" class=\"dataframe\">\n",
       "  <thead>\n",
       "    <tr style=\"text-align: right;\">\n",
       "      <th></th>\n",
       "      <th>Identifiant</th>\n",
       "      <th>Titre - FR</th>\n",
       "      <th>Description - FR</th>\n",
       "      <th>Description longue - FR</th>\n",
       "      <th>Description longue - HTML - FR</th>\n",
       "      <th>Dernière mise à jour</th>\n",
       "      <th>Résumé horaires - FR</th>\n",
       "      <th>Horaires détaillés - FR</th>\n",
       "      <th>Horaires ISO</th>\n",
       "      <th>Première date</th>\n",
       "      <th>...</th>\n",
       "      <th>Nom du lieu</th>\n",
       "      <th>Adresse</th>\n",
       "      <th>Code postal</th>\n",
       "      <th>Ville</th>\n",
       "      <th>Département</th>\n",
       "      <th>Région</th>\n",
       "      <th>Pays</th>\n",
       "      <th>Site web du lieu</th>\n",
       "      <th>Tags du lieu</th>\n",
       "      <th>Description du lieu - FR</th>\n",
       "    </tr>\n",
       "  </thead>\n",
       "  <tbody>\n",
       "    <tr>\n",
       "      <th>0</th>\n",
       "      <td>75686965</td>\n",
       "      <td>La citoyenneté</td>\n",
       "      <td>Une exposition de l'office national des ancien...</td>\n",
       "      <td>Une exposition grand public mais accessible au...</td>\n",
       "      <td>&lt;p&gt;Une exposition grand public mais accessible...</td>\n",
       "      <td>2016-08-31T10:07:47.000Z</td>\n",
       "      <td>16 septembre, 08h00</td>\n",
       "      <td>vendredi 16 septembre - 08h00 à 17h00</td>\n",
       "      <td>2016-09-16T08:00:00+04:00-2016-09-16T17:00:00+...</td>\n",
       "      <td>2016-09-16</td>\n",
       "      <td>...</td>\n",
       "      <td>Hôtel de ville de Saint-Pierre</td>\n",
       "      <td>rue Méziaire Guignard, 97416 Saint-Pierre</td>\n",
       "      <td>&lt;NA&gt;</td>\n",
       "      <td>Unknown</td>\n",
       "      <td>La Réunion</td>\n",
       "      <td>La Réunion</td>\n",
       "      <td>Réunion</td>\n",
       "      <td>Unknown</td>\n",
       "      <td>Monument historique|Lieu de pouvoir, édifice j...</td>\n",
       "      <td>Ancien entrepôt de la Compagnie des Indes, ce ...</td>\n",
       "    </tr>\n",
       "    <tr>\n",
       "      <th>1</th>\n",
       "      <td>18268067</td>\n",
       "      <td>Journée du patrimoine - St-Aignan</td>\n",
       "      <td>Événement</td>\n",
       "      <td>Événement#JEP2016*   Programmation exceptionne...</td>\n",
       "      <td>&lt;p&gt;Événement&lt;/p&gt;&lt;p&gt;#JEP2016&lt;/p&gt;&lt;ul&gt;&lt;li&gt;Program...</td>\n",
       "      <td>2016-09-07T08:16:59.000Z</td>\n",
       "      <td>16 et 17 septembre</td>\n",
       "      <td>vendredi 16 septembre - 07h00 à 08h00vendredi ...</td>\n",
       "      <td>2016-09-16T07:00:00+02:00-2016-09-16T08:00:00+...</td>\n",
       "      <td>2016-09-16</td>\n",
       "      <td>...</td>\n",
       "      <td>Saint-Aignan</td>\n",
       "      <td>1rue Victor-Hugo 41110 Saint-Aignan-sur-Cher</td>\n",
       "      <td>41110</td>\n",
       "      <td>Saint-Aignan-sur-Cher</td>\n",
       "      <td>Loir-et-Cher</td>\n",
       "      <td>Centre-Val de Loire</td>\n",
       "      <td>France</td>\n",
       "      <td>https://www.facebook.com/MairieStAignan/</td>\n",
       "      <td>Patrimoine XXe|Patrimoine européen|Villes et P...</td>\n",
       "      <td>Événement #JEP2016- Programmation exceptionnel...</td>\n",
       "    </tr>\n",
       "    <tr>\n",
       "      <th>2</th>\n",
       "      <td>95583734</td>\n",
       "      <td>Du côté de la Saline-les-Hauts avec l'associat...</td>\n",
       "      <td>Découverte du Jako Malbar</td>\n",
       "      <td>L’association \"Kaz Maron\" nous entraînera dans...</td>\n",
       "      <td>&lt;p&gt;L’association &amp;quot;Kaz Maron&amp;quot; nous en...</td>\n",
       "      <td>2016-07-28T04:22:16.000Z</td>\n",
       "      <td>16 et 17 septembre</td>\n",
       "      <td>vendredi 16 septembre - 09h00 à 11h30vendredi ...</td>\n",
       "      <td>2016-09-16T09:00:00+04:00-2016-09-16T11:30:00+...</td>\n",
       "      <td>2016-09-16</td>\n",
       "      <td>...</td>\n",
       "      <td>Ancienne usine de Vue-Belle</td>\n",
       "      <td>rue du lycée, 97422 la Saline-les-Hauts</td>\n",
       "      <td>97411</td>\n",
       "      <td>La Saline Les Hauts</td>\n",
       "      <td>La Réunion</td>\n",
       "      <td>La Réunion</td>\n",
       "      <td>Réunion</td>\n",
       "      <td>Unknown</td>\n",
       "      <td>Unknown</td>\n",
       "      <td>Unknown</td>\n",
       "    </tr>\n",
       "    <tr>\n",
       "      <th>3</th>\n",
       "      <td>57016244</td>\n",
       "      <td>Raconte-moi le Patrimoine</td>\n",
       "      <td>Et si vous preniez la parole pour les Journées...</td>\n",
       "      <td>Et si vous preniez la parole pour les Journées...</td>\n",
       "      <td>&lt;p&gt;Et si vous preniez la parole pour les Journ...</td>\n",
       "      <td>2016-07-12T10:09:26.000Z</td>\n",
       "      <td>16 - 18 septembre</td>\n",
       "      <td>vendredi 16 septembre - 07h00 à 06h00samedi 17...</td>\n",
       "      <td>2016-09-16T07:00:00+02:00-2016-09-17T06:00:00+...</td>\n",
       "      <td>2016-09-16</td>\n",
       "      <td>...</td>\n",
       "      <td>Pays voironnais (34 communes)</td>\n",
       "      <td>38500 Voiron</td>\n",
       "      <td>38500</td>\n",
       "      <td>Voiron</td>\n",
       "      <td>Isere</td>\n",
       "      <td>Auvergne-Rhône-Alpes</td>\n",
       "      <td>France</td>\n",
       "      <td>Unknown</td>\n",
       "      <td>Unknown</td>\n",
       "      <td>Unknown</td>\n",
       "    </tr>\n",
       "    <tr>\n",
       "      <th>4</th>\n",
       "      <td>3120479</td>\n",
       "      <td>Randonnée pédestre \"Au fil du temps\"</td>\n",
       "      <td>Mercredi 14 sept à 15h</td>\n",
       "      <td>Nous vous proposerons un itinéraire qui vous m...</td>\n",
       "      <td>&lt;p&gt;Nous vous proposerons un itinéraire qui vou...</td>\n",
       "      <td>2016-08-23T13:34:19.000Z</td>\n",
       "      <td>16 septembre, 07h00</td>\n",
       "      <td>vendredi 16 septembre - 07h00 à 08h00</td>\n",
       "      <td>2016-09-16T07:00:00+02:00-2016-09-16T08:00:00+...</td>\n",
       "      <td>2016-09-16</td>\n",
       "      <td>...</td>\n",
       "      <td>Saint-Paul-lès-Dax</td>\n",
       "      <td>Bourg, 40990 Saint-Paul-lès-Dax</td>\n",
       "      <td>40990</td>\n",
       "      <td>Saint-Paul-lès-Dax</td>\n",
       "      <td>Landes</td>\n",
       "      <td>Aquitaine-Limousin-Poitou-Charentes</td>\n",
       "      <td>France</td>\n",
       "      <td>http://www.st-paul-les-dax.fr</td>\n",
       "      <td>Unknown</td>\n",
       "      <td>Église©Ghislain118</td>\n",
       "    </tr>\n",
       "  </tbody>\n",
       "</table>\n",
       "<p>5 rows × 29 columns</p>\n",
       "</div>"
      ],
      "text/plain": [
       "   Identifiant                                         Titre - FR  \\\n",
       "0     75686965                                     La citoyenneté   \n",
       "1     18268067                 Journée du patrimoine - St-Aignan    \n",
       "2     95583734  Du côté de la Saline-les-Hauts avec l'associat...   \n",
       "3     57016244                          Raconte-moi le Patrimoine   \n",
       "4      3120479               Randonnée pédestre \"Au fil du temps\"   \n",
       "\n",
       "                                    Description - FR  \\\n",
       "0  Une exposition de l'office national des ancien...   \n",
       "1                                          Événement   \n",
       "2                          Découverte du Jako Malbar   \n",
       "3  Et si vous preniez la parole pour les Journées...   \n",
       "4                            Mercredi 14 sept à 15h    \n",
       "\n",
       "                             Description longue - FR  \\\n",
       "0  Une exposition grand public mais accessible au...   \n",
       "1  Événement#JEP2016*   Programmation exceptionne...   \n",
       "2  L’association \"Kaz Maron\" nous entraînera dans...   \n",
       "3  Et si vous preniez la parole pour les Journées...   \n",
       "4  Nous vous proposerons un itinéraire qui vous m...   \n",
       "\n",
       "                      Description longue - HTML - FR  \\\n",
       "0  <p>Une exposition grand public mais accessible...   \n",
       "1  <p>Événement</p><p>#JEP2016</p><ul><li>Program...   \n",
       "2  <p>L’association &quot;Kaz Maron&quot; nous en...   \n",
       "3  <p>Et si vous preniez la parole pour les Journ...   \n",
       "4  <p>Nous vous proposerons un itinéraire qui vou...   \n",
       "\n",
       "       Dernière mise à jour Résumé horaires - FR  \\\n",
       "0  2016-08-31T10:07:47.000Z  16 septembre, 08h00   \n",
       "1  2016-09-07T08:16:59.000Z   16 et 17 septembre   \n",
       "2  2016-07-28T04:22:16.000Z   16 et 17 septembre   \n",
       "3  2016-07-12T10:09:26.000Z    16 - 18 septembre   \n",
       "4  2016-08-23T13:34:19.000Z  16 septembre, 07h00   \n",
       "\n",
       "                             Horaires détaillés - FR  \\\n",
       "0              vendredi 16 septembre - 08h00 à 17h00   \n",
       "1  vendredi 16 septembre - 07h00 à 08h00vendredi ...   \n",
       "2  vendredi 16 septembre - 09h00 à 11h30vendredi ...   \n",
       "3  vendredi 16 septembre - 07h00 à 06h00samedi 17...   \n",
       "4              vendredi 16 septembre - 07h00 à 08h00   \n",
       "\n",
       "                                        Horaires ISO Première date  ...  \\\n",
       "0  2016-09-16T08:00:00+04:00-2016-09-16T17:00:00+...    2016-09-16  ...   \n",
       "1  2016-09-16T07:00:00+02:00-2016-09-16T08:00:00+...    2016-09-16  ...   \n",
       "2  2016-09-16T09:00:00+04:00-2016-09-16T11:30:00+...    2016-09-16  ...   \n",
       "3  2016-09-16T07:00:00+02:00-2016-09-17T06:00:00+...    2016-09-16  ...   \n",
       "4  2016-09-16T07:00:00+02:00-2016-09-16T08:00:00+...    2016-09-16  ...   \n",
       "\n",
       "                      Nom du lieu  \\\n",
       "0  Hôtel de ville de Saint-Pierre   \n",
       "1                    Saint-Aignan   \n",
       "2     Ancienne usine de Vue-Belle   \n",
       "3   Pays voironnais (34 communes)   \n",
       "4              Saint-Paul-lès-Dax   \n",
       "\n",
       "                                        Adresse Code postal  \\\n",
       "0     rue Méziaire Guignard, 97416 Saint-Pierre        <NA>   \n",
       "1  1rue Victor-Hugo 41110 Saint-Aignan-sur-Cher       41110   \n",
       "2       rue du lycée, 97422 la Saline-les-Hauts       97411   \n",
       "3                                  38500 Voiron       38500   \n",
       "4               Bourg, 40990 Saint-Paul-lès-Dax       40990   \n",
       "\n",
       "                   Ville   Département                               Région  \\\n",
       "0                Unknown    La Réunion                           La Réunion   \n",
       "1  Saint-Aignan-sur-Cher  Loir-et-Cher                  Centre-Val de Loire   \n",
       "2    La Saline Les Hauts    La Réunion                           La Réunion   \n",
       "3                 Voiron         Isere                 Auvergne-Rhône-Alpes   \n",
       "4     Saint-Paul-lès-Dax        Landes  Aquitaine-Limousin-Poitou-Charentes   \n",
       "\n",
       "      Pays                          Site web du lieu  \\\n",
       "0  Réunion                                   Unknown   \n",
       "1   France  https://www.facebook.com/MairieStAignan/   \n",
       "2  Réunion                                   Unknown   \n",
       "3   France                                   Unknown   \n",
       "4   France             http://www.st-paul-les-dax.fr   \n",
       "\n",
       "                                        Tags du lieu  \\\n",
       "0  Monument historique|Lieu de pouvoir, édifice j...   \n",
       "1  Patrimoine XXe|Patrimoine européen|Villes et P...   \n",
       "2                                            Unknown   \n",
       "3                                            Unknown   \n",
       "4                                            Unknown   \n",
       "\n",
       "                            Description du lieu - FR  \n",
       "0  Ancien entrepôt de la Compagnie des Indes, ce ...  \n",
       "1  Événement #JEP2016- Programmation exceptionnel...  \n",
       "2                                            Unknown  \n",
       "3                                            Unknown  \n",
       "4                                 Église©Ghislain118  \n",
       "\n",
       "[5 rows x 29 columns]"
      ]
     },
     "execution_count": 117,
     "metadata": {},
     "output_type": "execute_result"
    }
   ],
   "source": [
    "cleaned_data.head()"
   ]
  },
  {
   "cell_type": "code",
   "execution_count": 118,
   "id": "bf0a3e48-a33f-4878-8634-d08312ead891",
   "metadata": {},
   "outputs": [
    {
     "name": "stdout",
     "output_type": "stream",
     "text": [
      "<class 'pandas.core.frame.DataFrame'>\n",
      "Index: 12295 entries, 0 to 23614\n",
      "Data columns (total 29 columns):\n",
      " #   Column                          Non-Null Count  Dtype  \n",
      "---  ------                          --------------  -----  \n",
      " 0   Identifiant                     7351 non-null   Int64  \n",
      " 1   Titre - FR                      12295 non-null  object \n",
      " 2   Description - FR                12295 non-null  object \n",
      " 3   Description longue - FR         12295 non-null  object \n",
      " 4   Description longue - HTML - FR  12295 non-null  object \n",
      " 5   Dernière mise à jour            12295 non-null  object \n",
      " 6   Résumé horaires - FR            12295 non-null  object \n",
      " 7   Horaires détaillés - FR         12295 non-null  object \n",
      " 8   Horaires ISO                    12295 non-null  object \n",
      " 9   Première date                   12295 non-null  object \n",
      " 10  Première ouverture              12295 non-null  object \n",
      " 11  Première fermeture              12295 non-null  object \n",
      " 12  Type d'événement                12295 non-null  object \n",
      " 13  Conditions tarifaires           12295 non-null  object \n",
      " 14  Conditions de participation     12295 non-null  object \n",
      " 15  Age maximum                     2296 non-null   Int64  \n",
      " 16  Identifiant du lieu             7928 non-null   Int64  \n",
      " 17  Latitude                        8145 non-null   float64\n",
      " 18  Longitude                       8145 non-null   float64\n",
      " 19  Nom du lieu                     12295 non-null  object \n",
      " 20  Adresse                         12295 non-null  object \n",
      " 21  Code postal                     10616 non-null  Int64  \n",
      " 22  Ville                           12295 non-null  object \n",
      " 23  Département                     12295 non-null  object \n",
      " 24  Région                          12295 non-null  object \n",
      " 25  Pays                            12295 non-null  object \n",
      " 26  Site web du lieu                12295 non-null  object \n",
      " 27  Tags du lieu                    12295 non-null  object \n",
      " 28  Description du lieu - FR        12295 non-null  object \n",
      "dtypes: Int64(4), float64(2), object(23)\n",
      "memory usage: 2.9+ MB\n"
     ]
    }
   ],
   "source": [
    "cleaned_data.info()"
   ]
  },
  {
   "cell_type": "code",
   "execution_count": 119,
   "id": "c20964be-6d6f-4ef0-b768-83eb16ce09d5",
   "metadata": {},
   "outputs": [
    {
     "data": {
      "text/plain": [
       "Index(['Identifiant', 'Titre - FR', 'Description - FR',\n",
       "       'Description longue - FR', 'Description longue - HTML - FR',\n",
       "       'Dernière mise à jour', 'Résumé horaires - FR',\n",
       "       'Horaires détaillés - FR', 'Horaires ISO', 'Première date',\n",
       "       'Première ouverture', 'Première fermeture', 'Type d'événement',\n",
       "       'Conditions tarifaires', 'Conditions de participation', 'Age maximum',\n",
       "       'Identifiant du lieu', 'Latitude', 'Longitude', 'Nom du lieu',\n",
       "       'Adresse', 'Code postal', 'Ville', 'Département', 'Région', 'Pays',\n",
       "       'Site web du lieu', 'Tags du lieu', 'Description du lieu - FR'],\n",
       "      dtype='object')"
      ]
     },
     "execution_count": 119,
     "metadata": {},
     "output_type": "execute_result"
    }
   ],
   "source": [
    "cleaned_data.columns"
   ]
  },
  {
   "cell_type": "markdown",
   "id": "c75635f2-8659-4ff1-a50d-3d054d2abd4c",
   "metadata": {},
   "source": [
    "## Export Data"
   ]
  },
  {
   "cell_type": "code",
   "execution_count": 120,
   "id": "2511db27-18c2-401f-a051-7b09da3b1ca9",
   "metadata": {},
   "outputs": [],
   "source": [
    "cleaned_data.to_csv('Journees_europeennes_du_patrimoine_20160914_cleaned.csv', index=False, encoding='utf-8')"
   ]
  },
  {
   "cell_type": "code",
   "execution_count": null,
   "id": "77ae218c-88a1-49b6-8b9f-87703bbf65ac",
   "metadata": {},
   "outputs": [],
   "source": []
  }
 ],
 "metadata": {
  "kernelspec": {
   "display_name": "Python 3 (ipykernel)",
   "language": "python",
   "name": "python3"
  },
  "language_info": {
   "codemirror_mode": {
    "name": "ipython",
    "version": 3
   },
   "file_extension": ".py",
   "mimetype": "text/x-python",
   "name": "python",
   "nbconvert_exporter": "python",
   "pygments_lexer": "ipython3",
   "version": "3.8.19"
  }
 },
 "nbformat": 4,
 "nbformat_minor": 5
}
